{
 "cells": [
  {
   "cell_type": "code",
   "execution_count": 1,
   "metadata": {},
   "outputs": [],
   "source": [
    "import pandas as pd\n",
    "import numpy as np\n",
    "from  sklearn  import tree\n",
    "from sklearn import preprocessing\n",
    "from sklearn import tree"
   ]
  },
  {
   "cell_type": "code",
   "execution_count": 2,
   "metadata": {},
   "outputs": [],
   "source": [
    "df = pd.read_csv('...........\\\\drugsCom_raw\\\\Process.csv')"
   ]
  },
  {
   "cell_type": "code",
   "execution_count": 3,
   "metadata": {},
   "outputs": [
    {
     "data": {
      "text/html": [
       "<div>\n",
       "<style scoped>\n",
       "    .dataframe tbody tr th:only-of-type {\n",
       "        vertical-align: middle;\n",
       "    }\n",
       "\n",
       "    .dataframe tbody tr th {\n",
       "        vertical-align: top;\n",
       "    }\n",
       "\n",
       "    .dataframe thead th {\n",
       "        text-align: right;\n",
       "    }\n",
       "</style>\n",
       "<table border=\"1\" class=\"dataframe\">\n",
       "  <thead>\n",
       "    <tr style=\"text-align: right;\">\n",
       "      <th></th>\n",
       "      <th>Unnamed: 0</th>\n",
       "      <th>Id</th>\n",
       "      <th>rating</th>\n",
       "      <th>ratingSentiment</th>\n",
       "      <th>ratingSentimentLabel</th>\n",
       "      <th>vaderReviewScore</th>\n",
       "      <th>vaderSentiment</th>\n",
       "      <th>vaderTarget</th>\n",
       "    </tr>\n",
       "  </thead>\n",
       "  <tbody>\n",
       "    <tr>\n",
       "      <th>0</th>\n",
       "      <td>0</td>\n",
       "      <td>206461</td>\n",
       "      <td>9</td>\n",
       "      <td>2</td>\n",
       "      <td>positive</td>\n",
       "      <td>0.0000</td>\n",
       "      <td>0</td>\n",
       "      <td>neutral</td>\n",
       "    </tr>\n",
       "    <tr>\n",
       "      <th>1</th>\n",
       "      <td>1</td>\n",
       "      <td>95260</td>\n",
       "      <td>8</td>\n",
       "      <td>2</td>\n",
       "      <td>positive</td>\n",
       "      <td>0.9070</td>\n",
       "      <td>2</td>\n",
       "      <td>positive</td>\n",
       "    </tr>\n",
       "    <tr>\n",
       "      <th>2</th>\n",
       "      <td>2</td>\n",
       "      <td>92703</td>\n",
       "      <td>5</td>\n",
       "      <td>0</td>\n",
       "      <td>neutral</td>\n",
       "      <td>0.7096</td>\n",
       "      <td>2</td>\n",
       "      <td>positive</td>\n",
       "    </tr>\n",
       "    <tr>\n",
       "      <th>3</th>\n",
       "      <td>3</td>\n",
       "      <td>138000</td>\n",
       "      <td>8</td>\n",
       "      <td>2</td>\n",
       "      <td>positive</td>\n",
       "      <td>0.7184</td>\n",
       "      <td>2</td>\n",
       "      <td>positive</td>\n",
       "    </tr>\n",
       "    <tr>\n",
       "      <th>4</th>\n",
       "      <td>4</td>\n",
       "      <td>35696</td>\n",
       "      <td>9</td>\n",
       "      <td>2</td>\n",
       "      <td>positive</td>\n",
       "      <td>0.9403</td>\n",
       "      <td>2</td>\n",
       "      <td>positive</td>\n",
       "    </tr>\n",
       "  </tbody>\n",
       "</table>\n",
       "</div>"
      ],
      "text/plain": [
       "   Unnamed: 0      Id  rating  ratingSentiment ratingSentimentLabel  \\\n",
       "0           0  206461       9                2             positive   \n",
       "1           1   95260       8                2             positive   \n",
       "2           2   92703       5                0              neutral   \n",
       "3           3  138000       8                2             positive   \n",
       "4           4   35696       9                2             positive   \n",
       "\n",
       "   vaderReviewScore  vaderSentiment vaderTarget  \n",
       "0            0.0000               0     neutral  \n",
       "1            0.9070               2    positive  \n",
       "2            0.7096               2    positive  \n",
       "3            0.7184               2    positive  \n",
       "4            0.9403               2    positive  "
      ]
     },
     "execution_count": 3,
     "metadata": {},
     "output_type": "execute_result"
    }
   ],
   "source": [
    "df.head()"
   ]
  },
  {
   "cell_type": "code",
   "execution_count": 4,
   "metadata": {},
   "outputs": [
    {
     "data": {
      "text/html": [
       "<div>\n",
       "<style scoped>\n",
       "    .dataframe tbody tr th:only-of-type {\n",
       "        vertical-align: middle;\n",
       "    }\n",
       "\n",
       "    .dataframe tbody tr th {\n",
       "        vertical-align: top;\n",
       "    }\n",
       "\n",
       "    .dataframe thead th {\n",
       "        text-align: right;\n",
       "    }\n",
       "</style>\n",
       "<table border=\"1\" class=\"dataframe\">\n",
       "  <thead>\n",
       "    <tr style=\"text-align: right;\">\n",
       "      <th></th>\n",
       "      <th>Unnamed: 0</th>\n",
       "      <th>Id</th>\n",
       "      <th>rating</th>\n",
       "      <th>ratingSentiment</th>\n",
       "      <th>ratingSentimentLabel</th>\n",
       "      <th>vaderReviewScore</th>\n",
       "      <th>vaderSentiment</th>\n",
       "    </tr>\n",
       "  </thead>\n",
       "  <tbody>\n",
       "    <tr>\n",
       "      <th>0</th>\n",
       "      <td>0</td>\n",
       "      <td>206461</td>\n",
       "      <td>9</td>\n",
       "      <td>2</td>\n",
       "      <td>positive</td>\n",
       "      <td>0.0000</td>\n",
       "      <td>0</td>\n",
       "    </tr>\n",
       "    <tr>\n",
       "      <th>1</th>\n",
       "      <td>1</td>\n",
       "      <td>95260</td>\n",
       "      <td>8</td>\n",
       "      <td>2</td>\n",
       "      <td>positive</td>\n",
       "      <td>0.9070</td>\n",
       "      <td>2</td>\n",
       "    </tr>\n",
       "    <tr>\n",
       "      <th>2</th>\n",
       "      <td>2</td>\n",
       "      <td>92703</td>\n",
       "      <td>5</td>\n",
       "      <td>0</td>\n",
       "      <td>neutral</td>\n",
       "      <td>0.7096</td>\n",
       "      <td>2</td>\n",
       "    </tr>\n",
       "    <tr>\n",
       "      <th>3</th>\n",
       "      <td>3</td>\n",
       "      <td>138000</td>\n",
       "      <td>8</td>\n",
       "      <td>2</td>\n",
       "      <td>positive</td>\n",
       "      <td>0.7184</td>\n",
       "      <td>2</td>\n",
       "    </tr>\n",
       "    <tr>\n",
       "      <th>4</th>\n",
       "      <td>4</td>\n",
       "      <td>35696</td>\n",
       "      <td>9</td>\n",
       "      <td>2</td>\n",
       "      <td>positive</td>\n",
       "      <td>0.9403</td>\n",
       "      <td>2</td>\n",
       "    </tr>\n",
       "    <tr>\n",
       "      <th>...</th>\n",
       "      <td>...</td>\n",
       "      <td>...</td>\n",
       "      <td>...</td>\n",
       "      <td>...</td>\n",
       "      <td>...</td>\n",
       "      <td>...</td>\n",
       "      <td>...</td>\n",
       "    </tr>\n",
       "    <tr>\n",
       "      <th>215058</th>\n",
       "      <td>53761</td>\n",
       "      <td>159999</td>\n",
       "      <td>10</td>\n",
       "      <td>2</td>\n",
       "      <td>positive</td>\n",
       "      <td>-0.8924</td>\n",
       "      <td>1</td>\n",
       "    </tr>\n",
       "    <tr>\n",
       "      <th>215059</th>\n",
       "      <td>53762</td>\n",
       "      <td>140714</td>\n",
       "      <td>9</td>\n",
       "      <td>2</td>\n",
       "      <td>positive</td>\n",
       "      <td>0.9223</td>\n",
       "      <td>2</td>\n",
       "    </tr>\n",
       "    <tr>\n",
       "      <th>215060</th>\n",
       "      <td>53763</td>\n",
       "      <td>130945</td>\n",
       "      <td>8</td>\n",
       "      <td>2</td>\n",
       "      <td>positive</td>\n",
       "      <td>-0.8471</td>\n",
       "      <td>1</td>\n",
       "    </tr>\n",
       "    <tr>\n",
       "      <th>215061</th>\n",
       "      <td>53764</td>\n",
       "      <td>47656</td>\n",
       "      <td>1</td>\n",
       "      <td>1</td>\n",
       "      <td>negative</td>\n",
       "      <td>-0.8175</td>\n",
       "      <td>1</td>\n",
       "    </tr>\n",
       "    <tr>\n",
       "      <th>215062</th>\n",
       "      <td>53765</td>\n",
       "      <td>113712</td>\n",
       "      <td>9</td>\n",
       "      <td>2</td>\n",
       "      <td>positive</td>\n",
       "      <td>0.0000</td>\n",
       "      <td>0</td>\n",
       "    </tr>\n",
       "  </tbody>\n",
       "</table>\n",
       "<p>215063 rows × 7 columns</p>\n",
       "</div>"
      ],
      "text/plain": [
       "        Unnamed: 0      Id  rating  ratingSentiment ratingSentimentLabel  \\\n",
       "0                0  206461       9                2             positive   \n",
       "1                1   95260       8                2             positive   \n",
       "2                2   92703       5                0              neutral   \n",
       "3                3  138000       8                2             positive   \n",
       "4                4   35696       9                2             positive   \n",
       "...            ...     ...     ...              ...                  ...   \n",
       "215058       53761  159999      10                2             positive   \n",
       "215059       53762  140714       9                2             positive   \n",
       "215060       53763  130945       8                2             positive   \n",
       "215061       53764   47656       1                1             negative   \n",
       "215062       53765  113712       9                2             positive   \n",
       "\n",
       "        vaderReviewScore  vaderSentiment  \n",
       "0                 0.0000               0  \n",
       "1                 0.9070               2  \n",
       "2                 0.7096               2  \n",
       "3                 0.7184               2  \n",
       "4                 0.9403               2  \n",
       "...                  ...             ...  \n",
       "215058           -0.8924               1  \n",
       "215059            0.9223               2  \n",
       "215060           -0.8471               1  \n",
       "215061           -0.8175               1  \n",
       "215062            0.0000               0  \n",
       "\n",
       "[215063 rows x 7 columns]"
      ]
     },
     "execution_count": 4,
     "metadata": {},
     "output_type": "execute_result"
    }
   ],
   "source": [
    "data=df.iloc[:,:-1]\n",
    "data"
   ]
  },
  {
   "cell_type": "code",
   "execution_count": 5,
   "metadata": {},
   "outputs": [],
   "source": [
    "data_df=data.drop(['Unnamed: 0'],axis=1)"
   ]
  },
  {
   "cell_type": "code",
   "execution_count": 6,
   "metadata": {},
   "outputs": [
    {
     "data": {
      "text/html": [
       "<div>\n",
       "<style scoped>\n",
       "    .dataframe tbody tr th:only-of-type {\n",
       "        vertical-align: middle;\n",
       "    }\n",
       "\n",
       "    .dataframe tbody tr th {\n",
       "        vertical-align: top;\n",
       "    }\n",
       "\n",
       "    .dataframe thead th {\n",
       "        text-align: right;\n",
       "    }\n",
       "</style>\n",
       "<table border=\"1\" class=\"dataframe\">\n",
       "  <thead>\n",
       "    <tr style=\"text-align: right;\">\n",
       "      <th></th>\n",
       "      <th>Id</th>\n",
       "      <th>rating</th>\n",
       "      <th>ratingSentiment</th>\n",
       "      <th>ratingSentimentLabel</th>\n",
       "      <th>vaderReviewScore</th>\n",
       "      <th>vaderSentiment</th>\n",
       "    </tr>\n",
       "  </thead>\n",
       "  <tbody>\n",
       "    <tr>\n",
       "      <th>0</th>\n",
       "      <td>206461</td>\n",
       "      <td>9</td>\n",
       "      <td>2</td>\n",
       "      <td>positive</td>\n",
       "      <td>0.0000</td>\n",
       "      <td>0</td>\n",
       "    </tr>\n",
       "    <tr>\n",
       "      <th>1</th>\n",
       "      <td>95260</td>\n",
       "      <td>8</td>\n",
       "      <td>2</td>\n",
       "      <td>positive</td>\n",
       "      <td>0.9070</td>\n",
       "      <td>2</td>\n",
       "    </tr>\n",
       "    <tr>\n",
       "      <th>2</th>\n",
       "      <td>92703</td>\n",
       "      <td>5</td>\n",
       "      <td>0</td>\n",
       "      <td>neutral</td>\n",
       "      <td>0.7096</td>\n",
       "      <td>2</td>\n",
       "    </tr>\n",
       "    <tr>\n",
       "      <th>3</th>\n",
       "      <td>138000</td>\n",
       "      <td>8</td>\n",
       "      <td>2</td>\n",
       "      <td>positive</td>\n",
       "      <td>0.7184</td>\n",
       "      <td>2</td>\n",
       "    </tr>\n",
       "    <tr>\n",
       "      <th>4</th>\n",
       "      <td>35696</td>\n",
       "      <td>9</td>\n",
       "      <td>2</td>\n",
       "      <td>positive</td>\n",
       "      <td>0.9403</td>\n",
       "      <td>2</td>\n",
       "    </tr>\n",
       "  </tbody>\n",
       "</table>\n",
       "</div>"
      ],
      "text/plain": [
       "       Id  rating  ratingSentiment ratingSentimentLabel  vaderReviewScore  \\\n",
       "0  206461       9                2             positive            0.0000   \n",
       "1   95260       8                2             positive            0.9070   \n",
       "2   92703       5                0              neutral            0.7096   \n",
       "3  138000       8                2             positive            0.7184   \n",
       "4   35696       9                2             positive            0.9403   \n",
       "\n",
       "   vaderSentiment  \n",
       "0               0  \n",
       "1               2  \n",
       "2               2  \n",
       "3               2  \n",
       "4               2  "
      ]
     },
     "execution_count": 6,
     "metadata": {},
     "output_type": "execute_result"
    }
   ],
   "source": [
    "data_df.head()"
   ]
  },
  {
   "cell_type": "code",
   "execution_count": 7,
   "metadata": {},
   "outputs": [
    {
     "data": {
      "text/html": [
       "<div>\n",
       "<style scoped>\n",
       "    .dataframe tbody tr th:only-of-type {\n",
       "        vertical-align: middle;\n",
       "    }\n",
       "\n",
       "    .dataframe tbody tr th {\n",
       "        vertical-align: top;\n",
       "    }\n",
       "\n",
       "    .dataframe thead th {\n",
       "        text-align: right;\n",
       "    }\n",
       "</style>\n",
       "<table border=\"1\" class=\"dataframe\">\n",
       "  <thead>\n",
       "    <tr style=\"text-align: right;\">\n",
       "      <th></th>\n",
       "      <th>Id</th>\n",
       "      <th>rating</th>\n",
       "      <th>ratingSentiment</th>\n",
       "      <th>ratingSentimentLabel</th>\n",
       "      <th>vaderReviewScore</th>\n",
       "    </tr>\n",
       "  </thead>\n",
       "  <tbody>\n",
       "    <tr>\n",
       "      <th>0</th>\n",
       "      <td>206461</td>\n",
       "      <td>9</td>\n",
       "      <td>2</td>\n",
       "      <td>positive</td>\n",
       "      <td>0.0000</td>\n",
       "    </tr>\n",
       "    <tr>\n",
       "      <th>1</th>\n",
       "      <td>95260</td>\n",
       "      <td>8</td>\n",
       "      <td>2</td>\n",
       "      <td>positive</td>\n",
       "      <td>0.9070</td>\n",
       "    </tr>\n",
       "    <tr>\n",
       "      <th>2</th>\n",
       "      <td>92703</td>\n",
       "      <td>5</td>\n",
       "      <td>0</td>\n",
       "      <td>neutral</td>\n",
       "      <td>0.7096</td>\n",
       "    </tr>\n",
       "    <tr>\n",
       "      <th>3</th>\n",
       "      <td>138000</td>\n",
       "      <td>8</td>\n",
       "      <td>2</td>\n",
       "      <td>positive</td>\n",
       "      <td>0.7184</td>\n",
       "    </tr>\n",
       "    <tr>\n",
       "      <th>4</th>\n",
       "      <td>35696</td>\n",
       "      <td>9</td>\n",
       "      <td>2</td>\n",
       "      <td>positive</td>\n",
       "      <td>0.9403</td>\n",
       "    </tr>\n",
       "    <tr>\n",
       "      <th>...</th>\n",
       "      <td>...</td>\n",
       "      <td>...</td>\n",
       "      <td>...</td>\n",
       "      <td>...</td>\n",
       "      <td>...</td>\n",
       "    </tr>\n",
       "    <tr>\n",
       "      <th>215058</th>\n",
       "      <td>159999</td>\n",
       "      <td>10</td>\n",
       "      <td>2</td>\n",
       "      <td>positive</td>\n",
       "      <td>-0.8924</td>\n",
       "    </tr>\n",
       "    <tr>\n",
       "      <th>215059</th>\n",
       "      <td>140714</td>\n",
       "      <td>9</td>\n",
       "      <td>2</td>\n",
       "      <td>positive</td>\n",
       "      <td>0.9223</td>\n",
       "    </tr>\n",
       "    <tr>\n",
       "      <th>215060</th>\n",
       "      <td>130945</td>\n",
       "      <td>8</td>\n",
       "      <td>2</td>\n",
       "      <td>positive</td>\n",
       "      <td>-0.8471</td>\n",
       "    </tr>\n",
       "    <tr>\n",
       "      <th>215061</th>\n",
       "      <td>47656</td>\n",
       "      <td>1</td>\n",
       "      <td>1</td>\n",
       "      <td>negative</td>\n",
       "      <td>-0.8175</td>\n",
       "    </tr>\n",
       "    <tr>\n",
       "      <th>215062</th>\n",
       "      <td>113712</td>\n",
       "      <td>9</td>\n",
       "      <td>2</td>\n",
       "      <td>positive</td>\n",
       "      <td>0.0000</td>\n",
       "    </tr>\n",
       "  </tbody>\n",
       "</table>\n",
       "<p>215063 rows × 5 columns</p>\n",
       "</div>"
      ],
      "text/plain": [
       "            Id  rating  ratingSentiment ratingSentimentLabel  vaderReviewScore\n",
       "0       206461       9                2             positive            0.0000\n",
       "1        95260       8                2             positive            0.9070\n",
       "2        92703       5                0              neutral            0.7096\n",
       "3       138000       8                2             positive            0.7184\n",
       "4        35696       9                2             positive            0.9403\n",
       "...        ...     ...              ...                  ...               ...\n",
       "215058  159999      10                2             positive           -0.8924\n",
       "215059  140714       9                2             positive            0.9223\n",
       "215060  130945       8                2             positive           -0.8471\n",
       "215061   47656       1                1             negative           -0.8175\n",
       "215062  113712       9                2             positive            0.0000\n",
       "\n",
       "[215063 rows x 5 columns]"
      ]
     },
     "execution_count": 7,
     "metadata": {},
     "output_type": "execute_result"
    }
   ],
   "source": [
    "x0 = data_df.iloc[ : , 0 :-1]\n",
    "x0"
   ]
  },
  {
   "cell_type": "code",
   "execution_count": 8,
   "metadata": {},
   "outputs": [
    {
     "data": {
      "text/plain": [
       "0          neutral\n",
       "1         positive\n",
       "2         positive\n",
       "3         positive\n",
       "4         positive\n",
       "            ...   \n",
       "215058    negative\n",
       "215059    positive\n",
       "215060    negative\n",
       "215061    negative\n",
       "215062     neutral\n",
       "Name: vaderTarget, Length: 215063, dtype: object"
      ]
     },
     "execution_count": 8,
     "metadata": {},
     "output_type": "execute_result"
    }
   ],
   "source": [
    "y0 = df['vaderTarget']\n",
    "y0"
   ]
  },
  {
   "cell_type": "code",
   "execution_count": 9,
   "metadata": {},
   "outputs": [
    {
     "data": {
      "text/plain": [
       "LabelEncoder()"
      ]
     },
     "execution_count": 9,
     "metadata": {},
     "output_type": "execute_result"
    }
   ],
   "source": [
    "l1 = preprocessing.LabelEncoder()\n",
    "l1.fit(['neutral', 'positive','negative'])"
   ]
  },
  {
   "cell_type": "code",
   "execution_count": 10,
   "metadata": {},
   "outputs": [
    {
     "data": {
      "text/html": [
       "<div>\n",
       "<style scoped>\n",
       "    .dataframe tbody tr th:only-of-type {\n",
       "        vertical-align: middle;\n",
       "    }\n",
       "\n",
       "    .dataframe tbody tr th {\n",
       "        vertical-align: top;\n",
       "    }\n",
       "\n",
       "    .dataframe thead th {\n",
       "        text-align: right;\n",
       "    }\n",
       "</style>\n",
       "<table border=\"1\" class=\"dataframe\">\n",
       "  <thead>\n",
       "    <tr style=\"text-align: right;\">\n",
       "      <th></th>\n",
       "      <th>Id</th>\n",
       "      <th>rating</th>\n",
       "      <th>ratingSentiment</th>\n",
       "      <th>ratingSentimentLabel</th>\n",
       "      <th>vaderReviewScore</th>\n",
       "    </tr>\n",
       "  </thead>\n",
       "  <tbody>\n",
       "    <tr>\n",
       "      <th>0</th>\n",
       "      <td>206461</td>\n",
       "      <td>9</td>\n",
       "      <td>2</td>\n",
       "      <td>2</td>\n",
       "      <td>0.0000</td>\n",
       "    </tr>\n",
       "    <tr>\n",
       "      <th>1</th>\n",
       "      <td>95260</td>\n",
       "      <td>8</td>\n",
       "      <td>2</td>\n",
       "      <td>2</td>\n",
       "      <td>0.9070</td>\n",
       "    </tr>\n",
       "    <tr>\n",
       "      <th>2</th>\n",
       "      <td>92703</td>\n",
       "      <td>5</td>\n",
       "      <td>0</td>\n",
       "      <td>1</td>\n",
       "      <td>0.7096</td>\n",
       "    </tr>\n",
       "    <tr>\n",
       "      <th>3</th>\n",
       "      <td>138000</td>\n",
       "      <td>8</td>\n",
       "      <td>2</td>\n",
       "      <td>2</td>\n",
       "      <td>0.7184</td>\n",
       "    </tr>\n",
       "    <tr>\n",
       "      <th>4</th>\n",
       "      <td>35696</td>\n",
       "      <td>9</td>\n",
       "      <td>2</td>\n",
       "      <td>2</td>\n",
       "      <td>0.9403</td>\n",
       "    </tr>\n",
       "    <tr>\n",
       "      <th>...</th>\n",
       "      <td>...</td>\n",
       "      <td>...</td>\n",
       "      <td>...</td>\n",
       "      <td>...</td>\n",
       "      <td>...</td>\n",
       "    </tr>\n",
       "    <tr>\n",
       "      <th>215058</th>\n",
       "      <td>159999</td>\n",
       "      <td>10</td>\n",
       "      <td>2</td>\n",
       "      <td>2</td>\n",
       "      <td>-0.8924</td>\n",
       "    </tr>\n",
       "    <tr>\n",
       "      <th>215059</th>\n",
       "      <td>140714</td>\n",
       "      <td>9</td>\n",
       "      <td>2</td>\n",
       "      <td>2</td>\n",
       "      <td>0.9223</td>\n",
       "    </tr>\n",
       "    <tr>\n",
       "      <th>215060</th>\n",
       "      <td>130945</td>\n",
       "      <td>8</td>\n",
       "      <td>2</td>\n",
       "      <td>2</td>\n",
       "      <td>-0.8471</td>\n",
       "    </tr>\n",
       "    <tr>\n",
       "      <th>215061</th>\n",
       "      <td>47656</td>\n",
       "      <td>1</td>\n",
       "      <td>1</td>\n",
       "      <td>0</td>\n",
       "      <td>-0.8175</td>\n",
       "    </tr>\n",
       "    <tr>\n",
       "      <th>215062</th>\n",
       "      <td>113712</td>\n",
       "      <td>9</td>\n",
       "      <td>2</td>\n",
       "      <td>2</td>\n",
       "      <td>0.0000</td>\n",
       "    </tr>\n",
       "  </tbody>\n",
       "</table>\n",
       "<p>215063 rows × 5 columns</p>\n",
       "</div>"
      ],
      "text/plain": [
       "            Id  rating  ratingSentiment  ratingSentimentLabel  \\\n",
       "0       206461       9                2                     2   \n",
       "1        95260       8                2                     2   \n",
       "2        92703       5                0                     1   \n",
       "3       138000       8                2                     2   \n",
       "4        35696       9                2                     2   \n",
       "...        ...     ...              ...                   ...   \n",
       "215058  159999      10                2                     2   \n",
       "215059  140714       9                2                     2   \n",
       "215060  130945       8                2                     2   \n",
       "215061   47656       1                1                     0   \n",
       "215062  113712       9                2                     2   \n",
       "\n",
       "        vaderReviewScore  \n",
       "0                 0.0000  \n",
       "1                 0.9070  \n",
       "2                 0.7096  \n",
       "3                 0.7184  \n",
       "4                 0.9403  \n",
       "...                  ...  \n",
       "215058           -0.8924  \n",
       "215059            0.9223  \n",
       "215060           -0.8471  \n",
       "215061           -0.8175  \n",
       "215062            0.0000  \n",
       "\n",
       "[215063 rows x 5 columns]"
      ]
     },
     "execution_count": 10,
     "metadata": {},
     "output_type": "execute_result"
    }
   ],
   "source": [
    "x = x0\n",
    "x.iloc[:,3] = l1.transform(x0.iloc[:,3])\n",
    "x0"
   ]
  },
  {
   "cell_type": "code",
   "execution_count": 11,
   "metadata": {},
   "outputs": [],
   "source": [
    "l0 = preprocessing.LabelEncoder()\n",
    "l0.fit(['neutral', 'positive','negative'])\n",
    "y= l0.transform(y0)"
   ]
  },
  {
   "cell_type": "code",
   "execution_count": 12,
   "metadata": {},
   "outputs": [
    {
     "data": {
      "text/plain": [
       "array([1, 2, 2, ..., 0, 0, 1])"
      ]
     },
     "execution_count": 12,
     "metadata": {},
     "output_type": "execute_result"
    }
   ],
   "source": [
    "y"
   ]
  },
  {
   "cell_type": "code",
   "execution_count": 13,
   "metadata": {},
   "outputs": [
    {
     "data": {
      "text/html": [
       "<div>\n",
       "<style scoped>\n",
       "    .dataframe tbody tr th:only-of-type {\n",
       "        vertical-align: middle;\n",
       "    }\n",
       "\n",
       "    .dataframe tbody tr th {\n",
       "        vertical-align: top;\n",
       "    }\n",
       "\n",
       "    .dataframe thead th {\n",
       "        text-align: right;\n",
       "    }\n",
       "</style>\n",
       "<table border=\"1\" class=\"dataframe\">\n",
       "  <thead>\n",
       "    <tr style=\"text-align: right;\">\n",
       "      <th></th>\n",
       "      <th>Id</th>\n",
       "      <th>rating</th>\n",
       "      <th>ratingSentiment</th>\n",
       "      <th>ratingSentimentLabel</th>\n",
       "      <th>vaderReviewScore</th>\n",
       "    </tr>\n",
       "  </thead>\n",
       "  <tbody>\n",
       "    <tr>\n",
       "      <th>0</th>\n",
       "      <td>206461</td>\n",
       "      <td>9</td>\n",
       "      <td>2</td>\n",
       "      <td>2</td>\n",
       "      <td>0.0000</td>\n",
       "    </tr>\n",
       "    <tr>\n",
       "      <th>1</th>\n",
       "      <td>95260</td>\n",
       "      <td>8</td>\n",
       "      <td>2</td>\n",
       "      <td>2</td>\n",
       "      <td>0.9070</td>\n",
       "    </tr>\n",
       "    <tr>\n",
       "      <th>2</th>\n",
       "      <td>92703</td>\n",
       "      <td>5</td>\n",
       "      <td>0</td>\n",
       "      <td>1</td>\n",
       "      <td>0.7096</td>\n",
       "    </tr>\n",
       "    <tr>\n",
       "      <th>3</th>\n",
       "      <td>138000</td>\n",
       "      <td>8</td>\n",
       "      <td>2</td>\n",
       "      <td>2</td>\n",
       "      <td>0.7184</td>\n",
       "    </tr>\n",
       "    <tr>\n",
       "      <th>4</th>\n",
       "      <td>35696</td>\n",
       "      <td>9</td>\n",
       "      <td>2</td>\n",
       "      <td>2</td>\n",
       "      <td>0.9403</td>\n",
       "    </tr>\n",
       "    <tr>\n",
       "      <th>...</th>\n",
       "      <td>...</td>\n",
       "      <td>...</td>\n",
       "      <td>...</td>\n",
       "      <td>...</td>\n",
       "      <td>...</td>\n",
       "    </tr>\n",
       "    <tr>\n",
       "      <th>215058</th>\n",
       "      <td>159999</td>\n",
       "      <td>10</td>\n",
       "      <td>2</td>\n",
       "      <td>2</td>\n",
       "      <td>-0.8924</td>\n",
       "    </tr>\n",
       "    <tr>\n",
       "      <th>215059</th>\n",
       "      <td>140714</td>\n",
       "      <td>9</td>\n",
       "      <td>2</td>\n",
       "      <td>2</td>\n",
       "      <td>0.9223</td>\n",
       "    </tr>\n",
       "    <tr>\n",
       "      <th>215060</th>\n",
       "      <td>130945</td>\n",
       "      <td>8</td>\n",
       "      <td>2</td>\n",
       "      <td>2</td>\n",
       "      <td>-0.8471</td>\n",
       "    </tr>\n",
       "    <tr>\n",
       "      <th>215061</th>\n",
       "      <td>47656</td>\n",
       "      <td>1</td>\n",
       "      <td>1</td>\n",
       "      <td>0</td>\n",
       "      <td>-0.8175</td>\n",
       "    </tr>\n",
       "    <tr>\n",
       "      <th>215062</th>\n",
       "      <td>113712</td>\n",
       "      <td>9</td>\n",
       "      <td>2</td>\n",
       "      <td>2</td>\n",
       "      <td>0.0000</td>\n",
       "    </tr>\n",
       "  </tbody>\n",
       "</table>\n",
       "<p>215063 rows × 5 columns</p>\n",
       "</div>"
      ],
      "text/plain": [
       "            Id  rating  ratingSentiment  ratingSentimentLabel  \\\n",
       "0       206461       9                2                     2   \n",
       "1        95260       8                2                     2   \n",
       "2        92703       5                0                     1   \n",
       "3       138000       8                2                     2   \n",
       "4        35696       9                2                     2   \n",
       "...        ...     ...              ...                   ...   \n",
       "215058  159999      10                2                     2   \n",
       "215059  140714       9                2                     2   \n",
       "215060  130945       8                2                     2   \n",
       "215061   47656       1                1                     0   \n",
       "215062  113712       9                2                     2   \n",
       "\n",
       "        vaderReviewScore  \n",
       "0                 0.0000  \n",
       "1                 0.9070  \n",
       "2                 0.7096  \n",
       "3                 0.7184  \n",
       "4                 0.9403  \n",
       "...                  ...  \n",
       "215058           -0.8924  \n",
       "215059            0.9223  \n",
       "215060           -0.8471  \n",
       "215061           -0.8175  \n",
       "215062            0.0000  \n",
       "\n",
       "[215063 rows x 5 columns]"
      ]
     },
     "execution_count": 13,
     "metadata": {},
     "output_type": "execute_result"
    }
   ],
   "source": [
    "x0"
   ]
  },
  {
   "cell_type": "code",
   "execution_count": 14,
   "metadata": {},
   "outputs": [],
   "source": [
    "clf = tree.DecisionTreeClassifier()"
   ]
  },
  {
   "cell_type": "code",
   "execution_count": 15,
   "metadata": {},
   "outputs": [
    {
     "data": {
      "text/plain": [
       "[Text(200.88000000000002, 181.2, 'X[4] <= 0.05\\ngini = 0.539\\nsamples = 215063\\nvalue = [99830, 9035, 106198]'),\n",
       " Text(133.92000000000002, 108.72, 'X[4] <= -0.05\\ngini = 0.152\\nsamples = 108865\\nvalue = [99830, 9035, 0]'),\n",
       " Text(66.96000000000001, 36.23999999999998, 'gini = 0.0\\nsamples = 99830\\nvalue = [99830, 0, 0]'),\n",
       " Text(200.88000000000002, 36.23999999999998, 'gini = 0.0\\nsamples = 9035\\nvalue = [0, 9035, 0]'),\n",
       " Text(267.84000000000003, 108.72, 'gini = 0.0\\nsamples = 106198\\nvalue = [0, 0, 106198]')]"
      ]
     },
     "execution_count": 15,
     "metadata": {},
     "output_type": "execute_result"
    },
    {
     "data": {
      "image/png": "[encoded data removed]",
      "text/plain": [
       "<Figure size 432x288 with 1 Axes>"
      ]
     },
     "metadata": {
      "needs_background": "light"
     },
     "output_type": "display_data"
    }
   ],
   "source": [
    "clf_fit =clf.fit(x,y)\n",
    "tree.plot_tree(clf_fit)"
   ]
  },
  {
   "cell_type": "code",
   "execution_count": 16,
   "metadata": {},
   "outputs": [
    {
     "data": {
      "text/plain": [
       "[Text(200.88000000000002, 181.2, 'X[4] <= 0.05\\nentropy = 1.209\\nsamples = 215063\\nvalue = [99830, 9035, 106198]'),\n",
       " Text(133.92000000000002, 108.72, 'X[4] <= -0.05\\nentropy = 0.413\\nsamples = 108865\\nvalue = [99830, 9035, 0]'),\n",
       " Text(66.96000000000001, 36.23999999999998, 'entropy = 0.0\\nsamples = 99830\\nvalue = [99830, 0, 0]'),\n",
       " Text(200.88000000000002, 36.23999999999998, 'entropy = 0.0\\nsamples = 9035\\nvalue = [0, 9035, 0]'),\n",
       " Text(267.84000000000003, 108.72, 'entropy = 0.0\\nsamples = 106198\\nvalue = [0, 0, 106198]')]"
      ]
     },
     "execution_count": 16,
     "metadata": {},
     "output_type": "execute_result"
    },
    {
     "data": {
      "image/png": "[encoded data removed]",
      "text/plain": [
       "<Figure size 432x288 with 1 Axes>"
      ]
     },
     "metadata": {
      "needs_background": "light"
     },
     "output_type": "display_data"
    }
   ],
   "source": [
    "clf = tree.DecisionTreeClassifier(criterion='entropy')\n",
    "clf_fit =clf.fit(x,y)\n",
    "tree.plot_tree(clf_fit)"
   ]
  },
  {
   "cell_type": "code",
   "execution_count": null,
   "metadata": {},
   "outputs": [],
   "source": []
  },
  {
   "cell_type": "code",
   "execution_count": 17,
   "metadata": {},
   "outputs": [],
   "source": [
    "data_bayes=x0"
   ]
  },
  {
   "cell_type": "markdown",
   "metadata": {},
   "source": [
    "# ================================Bayse"
   ]
  },
  {
   "cell_type": "code",
   "execution_count": 18,
   "metadata": {},
   "outputs": [
    {
     "name": "stdout",
     "output_type": "stream",
     "text": [
      "[[0.1987314  0.42732063 0.017934   0.48355671 0.88976405]\n",
      " [0.95625451 0.83869059 0.58444718 0.483578   0.60848297]\n",
      " [0.93290672 0.41525814 0.04435639 0.31632065 0.28320288]\n",
      " [0.0079684  0.13635072 0.4119271  0.68644579 0.29982104]\n",
      " [0.71688913 0.85154104 0.33101245 0.43789394 0.71421863]\n",
      " [0.80600855 0.94204977 0.47519367 0.70235195 0.71647505]\n",
      " [0.59324282 0.24600582 0.48833661 0.77905403 0.45290581]\n",
      " [0.86901787 0.88650532 0.29820666 0.15383178 0.10102257]\n",
      " [0.71105297 0.90547558 0.25856708 0.97045145 0.36643718]\n",
      " [0.44674251 0.28574926 0.44007382 0.63242112 0.8943617 ]\n",
      " [0.10764886 0.43782926 0.06106357 0.79996478 0.25417637]\n",
      " [0.26973525 0.35633953 0.15239139 0.42699778 0.18289258]\n",
      " [0.38539125 0.76629529 0.92904816 0.39433936 0.43297949]\n",
      " [0.15077982 0.75152652 0.42934695 0.43757632 0.65372024]\n",
      " [0.19386324 0.93873607 0.36949066 0.34578056 0.00973919]\n",
      " [0.43506068 0.28552208 0.43112344 0.75920094 0.97395591]\n",
      " [0.20544947 0.02975253 0.49278616 0.61192342 0.79600785]\n",
      " [0.68103656 0.55577749 0.48543763 0.6894822  0.00611269]\n",
      " [0.97610139 0.6132361  0.66597078 0.47175556 0.76519224]\n",
      " [0.78846559 0.4925709  0.42624058 0.71795348 0.20838012]\n",
      " [0.73896757 0.20566151 0.77188587 0.9931629  0.61638495]\n",
      " [0.77034644 0.92232831 0.38280191 0.69545778 0.24006618]\n",
      " [0.74530033 0.97125701 0.28156835 0.46299507 0.89771024]\n",
      " [0.71480134 0.19416242 0.67969427 0.7520433  0.83523939]\n",
      " [0.41454664 0.37947255 0.20893891 0.57061552 0.43108823]\n",
      " [0.35271621 0.57640987 0.49916637 0.13927789 0.49132826]\n",
      " [0.64062622 0.99947021 0.33778034 0.24268674 0.82657957]\n",
      " [0.20892474 0.70818529 0.17372495 0.13586797 0.82127536]\n",
      " [0.42746927 0.12836126 0.29179508 0.33471331 0.90504211]\n",
      " [0.98102266 0.41711403 0.47263982 0.25655951 0.81702587]\n",
      " [0.04470089 0.19932754 0.54040771 0.17948521 0.32250253]\n",
      " [0.68778269 0.78512757 0.6014559  0.64841307 0.14917062]\n",
      " [0.16330046 0.15454635 0.64550989 0.57904109 0.1699142 ]\n",
      " [0.83662088 0.1654576  0.37405428 0.83151545 0.80832527]\n",
      " [0.47038844 0.58787664 0.37142521 0.63742645 0.81167772]\n",
      " [0.41753171 0.03074204 0.14777788 0.58265328 0.68864474]\n",
      " [0.7417414  0.09497896 0.79578047 0.06988502 0.77655853]\n",
      " [0.0380863  0.80396203 0.6790935  0.97404049 0.82722785]\n",
      " [0.60158368 0.8563304  0.47550157 0.53672904 0.10236156]\n",
      " [0.18991074 0.87732236 0.14691153 0.73138078 0.0119456 ]\n",
      " [0.73304646 0.03456975 0.24254736 0.07470384 0.26855602]\n",
      " [0.92385712 0.43839623 0.52635943 0.71729463 0.59898008]\n",
      " [0.06458471 0.47635871 0.32584605 0.73391254 0.14140035]\n",
      " [0.39992422 0.96281869 0.64030949 0.36352585 0.08868739]\n",
      " [0.11163672 0.71920788 0.4249832  0.28750093 0.81994071]\n",
      " [0.55160994 0.90399881 0.98256402 0.45332239 0.30551598]\n",
      " [0.3927967  0.30586902 0.78648651 0.40748515 0.60854771]\n",
      " [0.71398244 0.27440222 0.50615823 0.63932478 0.28651849]\n",
      " [0.5466323  0.61937368 0.05381277 0.87255218 0.86407465]\n",
      " [0.62264966 0.50145709 0.75318069 0.3954933  0.86735189]\n",
      " [0.77319697 0.3906041  0.63662098 0.76133168 0.59737839]\n",
      " [0.14498935 0.71985726 0.49377174 0.90843815 0.83733614]\n",
      " [0.46192079 0.84259087 0.35033483 0.37919365 0.80939513]\n",
      " [0.54774695 0.90427238 0.71353022 0.55586177 0.75281321]\n",
      " [0.49775839 0.43593283 0.03783536 0.75717415 0.53529124]\n",
      " [0.43917625 0.45209916 0.79908777 0.47237572 0.14399208]\n",
      " [0.05764024 0.72289893 0.13409123 0.14943555 0.6384656 ]\n",
      " [0.03007382 0.61362324 0.27830348 0.21569088 0.64996995]\n",
      " [0.64284805 0.23982988 0.90466956 0.96670754 0.45153251]\n",
      " [0.88422624 0.84213773 0.46770018 0.62068862 0.66467454]\n",
      " [0.20376109 0.60127081 0.55130106 0.80472192 0.74761018]\n",
      " [0.6651257  0.59195701 0.17591359 0.82832703 0.34214189]\n",
      " [0.8465664  0.68714652 0.53589154 0.08100845 0.82581404]\n",
      " [0.11465939 0.29785085 0.20142301 0.89209125 0.53880633]\n",
      " [0.32606412 0.75908311 0.68168815 0.52973848 0.98624572]\n",
      " [0.86847037 0.21487867 0.31347089 0.01404097 0.28500295]\n",
      " [0.44108529 0.18550331 0.46705039 0.76341985 0.25044702]\n",
      " [0.09761508 0.0765833  0.37004113 0.75109821 0.42130316]\n",
      " [0.74138401 0.2809752  0.32469163 0.01357106 0.52142124]\n",
      " [0.53480228 0.78858818 0.58579898 0.18588654 0.30510707]\n",
      " [0.04930724 0.45179031 0.47923661 0.36188637 0.37938368]\n",
      " [0.10801993 0.01873972 0.60705863 0.45467734 0.74342215]\n",
      " [0.72205252 0.30758791 0.11506704 0.23928553 0.61878128]\n",
      " [0.07877932 0.30351881 0.04021957 0.45414869 0.22796198]\n",
      " [0.82576791 0.2084232  0.80238714 0.88172441 0.3765393 ]\n",
      " [0.03422453 0.34370821 0.01472601 0.46969362 0.83928303]\n",
      " [0.88636258 0.65464099 0.02456791 0.34253764 0.29669475]\n",
      " [0.21933173 0.12407516 0.12691338 0.15616086 0.31167972]\n",
      " [0.56666419 0.65096238 0.58705586 0.58189422 0.82715386]\n",
      " [0.929805   0.17569903 0.58909125 0.69127787 0.96481886]] [[0.35129893 0.16091783 0.23983071 0.2326217  0.30208545]\n",
      " [0.6519387  0.77115595 0.35982234 0.0419286  0.51237224]\n",
      " [0.69723223 0.93344665 0.94506643 0.20873452 0.54632045]\n",
      " [0.55511262 0.85029227 0.18046981 0.21736623 0.71462834]\n",
      " [0.2588538  0.24123908 0.33425884 0.44829054 0.68236612]\n",
      " [0.89149955 0.85126769 0.00742118 0.97800619 0.5451166 ]\n",
      " [0.74244276 0.17043572 0.69638212 0.10313888 0.65061195]\n",
      " [0.99225125 0.74299373 0.6575256  0.02642428 0.03968807]\n",
      " [0.96462928 0.75629185 0.60755774 0.15124636 0.17134491]\n",
      " [0.7936344  0.62879122 0.32759768 0.68113727 0.16267059]\n",
      " [0.46583548 0.66927051 0.62513801 0.85126738 0.41581308]\n",
      " [0.52853113 0.39561652 0.63193773 0.18483001 0.12217484]\n",
      " [0.26928101 0.78925504 0.91113607 0.71868629 0.8288641 ]\n",
      " [0.64145647 0.80593769 0.43957713 0.33648589 0.31928644]\n",
      " [0.36491374 0.81039943 0.7820562  0.53464259 0.50075916]\n",
      " [0.86327357 0.67323135 0.88035101 0.2665163  0.07812713]\n",
      " [0.38345766 0.38497878 0.02569732 0.74713833 0.19876888]\n",
      " [0.31081514 0.41687017 0.40863755 0.46916287 0.26848491]\n",
      " [0.04589767 0.49453076 0.47903392 0.24079867 0.40830959]\n",
      " [0.76702358 0.4709328  0.19107987 0.10501978 0.68284603]]\n"
     ]
    },
    {
     "ename": "ValueError",
     "evalue": "too many values to unpack (expected 2)",
     "output_type": "error",
     "traceback": [
      "\u001b[1;31m---------------------------------------------------------------------------\u001b[0m",
      "\u001b[1;31mValueError\u001b[0m                                Traceback (most recent call last)",
      "\u001b[1;32m<ipython-input-18-bd71c789f1e2>\u001b[0m in \u001b[0;36m<module>\u001b[1;34m\u001b[0m\n\u001b[0;32m      8\u001b[0m \u001b[0mprint\u001b[0m\u001b[1;33m(\u001b[0m\u001b[0mtraining\u001b[0m\u001b[1;33m,\u001b[0m\u001b[0mtest\u001b[0m\u001b[1;33m)\u001b[0m\u001b[1;33m\u001b[0m\u001b[1;33m\u001b[0m\u001b[0m\n\u001b[0;32m      9\u001b[0m \u001b[1;33m\u001b[0m\u001b[0m\n\u001b[1;32m---> 10\u001b[1;33m \u001b[0mclassifier\u001b[0m \u001b[1;33m=\u001b[0m \u001b[0mnltk\u001b[0m\u001b[1;33m.\u001b[0m\u001b[0mNaiveBayesClassifier\u001b[0m\u001b[1;33m.\u001b[0m\u001b[0mtrain\u001b[0m\u001b[1;33m(\u001b[0m\u001b[0mtraining\u001b[0m\u001b[1;33m)\u001b[0m\u001b[1;33m\u001b[0m\u001b[1;33m\u001b[0m\u001b[0m\n\u001b[0m\u001b[0;32m     11\u001b[0m \u001b[1;33m\u001b[0m\u001b[0m\n\u001b[0;32m     12\u001b[0m \u001b[0mprint\u001b[0m\u001b[1;33m(\u001b[0m\u001b[1;34m\"Naive Bayes Algo Accuracy:\"\u001b[0m\u001b[1;33m,\u001b[0m \u001b[1;33m(\u001b[0m\u001b[0mnltk\u001b[0m\u001b[1;33m.\u001b[0m\u001b[0mclassify\u001b[0m\u001b[1;33m.\u001b[0m\u001b[0maccuracy\u001b[0m\u001b[1;33m(\u001b[0m\u001b[0mclassifier\u001b[0m\u001b[1;33m,\u001b[0m\u001b[0mtest\u001b[0m\u001b[1;33m)\u001b[0m\u001b[1;33m)\u001b[0m\u001b[1;33m*\u001b[0m\u001b[1;36m100\u001b[0m\u001b[1;33m)\u001b[0m\u001b[1;33m\u001b[0m\u001b[1;33m\u001b[0m\u001b[0m\n",
      "\u001b[1;32mC:\\ProgramData\\Anaconda3\\lib\\site-packages\\nltk\\classify\\naivebayes.py\u001b[0m in \u001b[0;36mtrain\u001b[1;34m(cls, labeled_featuresets, estimator)\u001b[0m\n\u001b[0;32m    205\u001b[0m         \u001b[1;31m# Count up how many times each feature value occurred, given\u001b[0m\u001b[1;33m\u001b[0m\u001b[1;33m\u001b[0m\u001b[1;33m\u001b[0m\u001b[0m\n\u001b[0;32m    206\u001b[0m         \u001b[1;31m# the label and featurename.\u001b[0m\u001b[1;33m\u001b[0m\u001b[1;33m\u001b[0m\u001b[1;33m\u001b[0m\u001b[0m\n\u001b[1;32m--> 207\u001b[1;33m         \u001b[1;32mfor\u001b[0m \u001b[0mfeatureset\u001b[0m\u001b[1;33m,\u001b[0m \u001b[0mlabel\u001b[0m \u001b[1;32min\u001b[0m \u001b[0mlabeled_featuresets\u001b[0m\u001b[1;33m:\u001b[0m\u001b[1;33m\u001b[0m\u001b[1;33m\u001b[0m\u001b[0m\n\u001b[0m\u001b[0;32m    208\u001b[0m             \u001b[0mlabel_freqdist\u001b[0m\u001b[1;33m[\u001b[0m\u001b[0mlabel\u001b[0m\u001b[1;33m]\u001b[0m \u001b[1;33m+=\u001b[0m \u001b[1;36m1\u001b[0m\u001b[1;33m\u001b[0m\u001b[1;33m\u001b[0m\u001b[0m\n\u001b[0;32m    209\u001b[0m             \u001b[1;32mfor\u001b[0m \u001b[0mfname\u001b[0m\u001b[1;33m,\u001b[0m \u001b[0mfval\u001b[0m \u001b[1;32min\u001b[0m \u001b[0mfeatureset\u001b[0m\u001b[1;33m.\u001b[0m\u001b[0mitems\u001b[0m\u001b[1;33m(\u001b[0m\u001b[1;33m)\u001b[0m\u001b[1;33m:\u001b[0m\u001b[1;33m\u001b[0m\u001b[1;33m\u001b[0m\u001b[0m\n",
      "\u001b[1;31mValueError\u001b[0m: too many values to unpack (expected 2)"
     ]
    }
   ],
   "source": [
    "import nltk\n",
    "import nltk.classify.util\n",
    "from nltk.classify import NaiveBayesClassifier\n",
    "import numpy\n",
    "data_bayes = numpy.random.rand(100, 5)\n",
    "numpy.random.shuffle(data_bayes)\n",
    "training, test = data_bayes[:80,:], data_bayes[80:,:]\n",
    "print(training,test)\n",
    "\n",
    "classifier = nltk.NaiveBayesClassifier.train(training)\n",
    "\n",
    "print(\"Naive Bayes Algo Accuracy:\", (nltk.classify.accuracy(classifier,test))*100)\n"
   ]
  },
  {
   "cell_type": "code",
   "execution_count": null,
   "metadata": {},
   "outputs": [],
   "source": [
    "#============================"
   ]
  },
  {
   "cell_type": "markdown",
   "metadata": {},
   "source": [
    "# ================================KNN"
   ]
  },
  {
   "cell_type": "code",
   "execution_count": null,
   "metadata": {},
   "outputs": [],
   "source": [
    "from sklearn.model_selection import train_test_split\n",
    "from sklearn.preprocessing import StandardScaler\n",
    "from sklearn.neighbors import KNeighborsClassifier\n",
    "from sklearn.metrics import confusion_matrix\n",
    "from sklearn.metrics import f1_score\n",
    "from sklearn.metrics import accuracy_score"
   ]
  },
  {
   "cell_type": "code",
   "execution_count": null,
   "metadata": {},
   "outputs": [],
   "source": [
    "dataset=x0\n",
    "print(len(dataset))\n",
    "dataset.head(22)"
   ]
  },
  {
   "cell_type": "code",
   "execution_count": null,
   "metadata": {},
   "outputs": [],
   "source": [
    "zero_not_accepted =['Id','rating','ratingSentiment','ratingSentimentLabel','vaderReviewScore']"
   ]
  },
  {
   "cell_type": "code",
   "execution_count": null,
   "metadata": {},
   "outputs": [],
   "source": [
    "for column in zero_not_accepted:\n",
    "    dataset[column]=dataset[column].replace(0,np.NaN)\n",
    "    mean = int(dataset[column].mean(skipna=True))\n",
    "    dataset[column] = dataset[column].replace(np.NAN,mean)"
   ]
  },
  {
   "cell_type": "code",
   "execution_count": null,
   "metadata": {},
   "outputs": [],
   "source": [
    "print(dataset['Id'])"
   ]
  },
  {
   "cell_type": "code",
   "execution_count": null,
   "metadata": {},
   "outputs": [],
   "source": [
    "x=dataset.iloc[:,0:5]\n",
    "y=dataset.iloc[:, 4]\n",
    "x_train , x_test , y_train , y_test =train_test_split(x,y,random_state=0 ,test_size=0.2)"
   ]
  },
  {
   "cell_type": "code",
   "execution_count": null,
   "metadata": {},
   "outputs": [],
   "source": [
    "sc_x = StandardScaler()\n",
    "x_train = sc_x.fit_transform(x_train)\n",
    "x_test = sc_x.fit_transform(x_test)\n"
   ]
  },
  {
   "cell_type": "code",
   "execution_count": null,
   "metadata": {},
   "outputs": [],
   "source": [
    "x_train"
   ]
  },
  {
   "cell_type": "code",
   "execution_count": null,
   "metadata": {},
   "outputs": [],
   "source": [
    "x_test"
   ]
  },
  {
   "cell_type": "code",
   "execution_count": null,
   "metadata": {},
   "outputs": [],
   "source": [
    "y_train"
   ]
  },
  {
   "cell_type": "code",
   "execution_count": null,
   "metadata": {},
   "outputs": [],
   "source": [
    "y_test"
   ]
  },
  {
   "cell_type": "code",
   "execution_count": null,
   "metadata": {},
   "outputs": [],
   "source": [
    "import math"
   ]
  },
  {
   "cell_type": "code",
   "execution_count": null,
   "metadata": {},
   "outputs": [],
   "source": [
    "math.sqrt(len(y_train))"
   ]
  },
  {
   "cell_type": "code",
   "execution_count": null,
   "metadata": {},
   "outputs": [],
   "source": [
    "math.sqrt(len(y_test))"
   ]
  },
  {
   "cell_type": "code",
   "execution_count": null,
   "metadata": {},
   "outputs": [],
   "source": [
    "#classifier = KNeighborsClassifier(n_neighbors=13,p=2,metric='euclidean')\n",
    "#classifier.fit(x_train,y_train)\n",
    "#cm = confusion_matrix(y_test , y_pred)\n",
    "#print(cm)"
   ]
  },
  {
   "cell_type": "markdown",
   "metadata": {},
   "source": [
    "# ================================MLP"
   ]
  },
  {
   "cell_type": "code",
   "execution_count": null,
   "metadata": {},
   "outputs": [],
   "source": [
    "from sklearn.neural_network import MLPClassifier\n",
    "\n",
    "from sklearn.datasets import make_classification\n",
    "\n",
    "from sklearn.model_selection import train_test_split\n",
    "\n",
    "\n",
    "X, y = make_classification(n_samples=100, random_state=1)\n",
    "\n",
    "\n",
    "X_train, X_test, y_train, y_test = train_test_split(X, y, stratify=y,random_state=1)\n",
    "\n",
    "\n",
    "clf = MLPClassifier(random_state=1, max_iter=300).fit(X_train, y_train)\n",
    "\n",
    "clf.predict_proba(X_test[:1])\n",
    "\n",
    "clf.predict(X_test[:5, :])\n",
    "\n",
    "\n",
    "clf.score(X_test, y_test)"
   ]
  },
  {
   "cell_type": "markdown",
   "metadata": {},
   "source": [
    "# ========================================================"
   ]
  },
  {
   "cell_type": "code",
   "execution_count": null,
   "metadata": {},
   "outputs": [],
   "source": [
    "# Import required libraries\n",
    "import pandas as pd\n",
    "import numpy as np \n",
    "import matplotlib.pyplot as plt\n",
    "import sklearn\n",
    "from sklearn.neural_network import MLPClassifier\n",
    "from sklearn.neural_network import MLPRegressor\n",
    "\n",
    "# Import necessary modules\n",
    "from sklearn.model_selection import train_test_split\n",
    "from sklearn.metrics import mean_squared_error\n",
    "from math import sqrt\n",
    "from sklearn.metrics import r2_score"
   ]
  },
  {
   "cell_type": "code",
   "execution_count": null,
   "metadata": {},
   "outputs": [],
   "source": [
    "print(x0.shape)\n",
    "x0.describe().transpose()"
   ]
  },
  {
   "cell_type": "code",
   "execution_count": null,
   "metadata": {},
   "outputs": [],
   "source": [
    "x0"
   ]
  },
  {
   "cell_type": "code",
   "execution_count": null,
   "metadata": {},
   "outputs": [],
   "source": [
    "target_column = ['vaderReviewScore'] \n",
    "predictors = list(set(list(x0.columns))-set(target_column))\n",
    "x0[predictors] = x0[predictors]/x0[predictors].max()\n",
    "x0.describe().transpose()"
   ]
  },
  {
   "cell_type": "code",
   "execution_count": null,
   "metadata": {},
   "outputs": [],
   "source": [
    "X = x0[predictors].values\n",
    "y = x0[target_column].values\n",
    "\n",
    "X_train, X_test, y_train, y_test = train_test_split(X, y, test_size=0.30, random_state=40)\n",
    "print(X_train.shape); print(X_test.shape)"
   ]
  },
  {
   "cell_type": "code",
   "execution_count": null,
   "metadata": {},
   "outputs": [],
   "source": [
    "from sklearn.neural_network import MLPClassifier\n",
    "\n",
    "mlp = MLPClassifier(hidden_layer_sizes=(8,8,8), activation='relu', solver='adam', max_iter=500)\n",
    "mlp.fit(X_train,y_train)\n",
    "\n",
    "predict_train = mlp.predict(X_train)\n",
    "predict_test = mlp.predict(X_test)"
   ]
  },
  {
   "cell_type": "code",
   "execution_count": null,
   "metadata": {},
   "outputs": [],
   "source": [
    "from sklearn.metrics import classification_report,confusion_matrix\n",
    "print(confusion_matrix(y_train,predict_train))\n",
    "print(classification_report(y_train,predict_train))"
   ]
  },
  {
   "cell_type": "markdown",
   "metadata": {},
   "source": [
    "# =======================Logistic Regression"
   ]
  },
  {
   "cell_type": "code",
   "execution_count": null,
   "metadata": {},
   "outputs": [],
   "source": [
    "import numpy as np\n",
    "import pandas as pd\n",
    "import matplotlib.pyplot as plt\n",
    "import seaborn as sns\n",
    "%matplotlib inline"
   ]
  },
  {
   "cell_type": "code",
   "execution_count": null,
   "metadata": {
    "scrolled": true
   },
   "outputs": [],
   "source": [
    "train = pd.read_csv('...............\\\\Proj_paython_drug\\\\processed.csv.gz')\n",
    "\n",
    "train.head()"
   ]
  },
  {
   "cell_type": "code",
   "execution_count": null,
   "metadata": {},
   "outputs": [],
   "source": [
    "train.isnull()\n"
   ]
  },
  {
   "cell_type": "code",
   "execution_count": 5,
   "metadata": {},
   "outputs": [
    {
     "data": {
      "text/plain": [
       "<AxesSubplot:>"
      ]
     },
     "execution_count": 5,
     "metadata": {},
     "output_type": "execute_result"
    },
    {
     "data": {
      "image/png": "[encoded data removed]",
      "text/plain": [
       "<Figure size 432x288 with 2 Axes>"
      ]
     },
     "metadata": {
      "needs_background": "light"
     },
     "output_type": "display_data"
    }
   ],
   "source": [
    "sns.heatmap(train.isnull())\n"
   ]
  },
  {
   "cell_type": "code",
   "execution_count": 6,
   "metadata": {},
   "outputs": [
    {
     "data": {
      "text/plain": [
       "<AxesSubplot:xlabel='rating', ylabel='count'>"
      ]
     },
     "execution_count": 6,
     "metadata": {},
     "output_type": "execute_result"
    },
    {
     "data": {
      "image/png": "[encoded data removed]",
      "text/plain": [
       "<Figure size 432x288 with 1 Axes>"
      ]
     },
     "metadata": {
      "needs_background": "light"
     },
     "output_type": "display_data"
    }
   ],
   "source": [
    "sns.countplot(x='rating',data=train)\n"
   ]
  },
  {
   "cell_type": "code",
   "execution_count": null,
   "metadata": {},
   "outputs": [],
   "source": [
    "sns.countplot(x='review',hue='rating',data=train)\n"
   ]
  },
  {
   "cell_type": "code",
   "execution_count": null,
   "metadata": {},
   "outputs": [],
   "source": [
    "plt.figure(figsize=(12, 7))\n",
    "sns.boxplot(x='rating',y='ratingSentimentLabel',data=train,palette='winter')"
   ]
  },
  {
   "cell_type": "code",
   "execution_count": null,
   "metadata": {},
   "outputs": [],
   "source": [
    "def impute_age(cols):\n",
    "    Id = cols[0]\n",
    "    rating = cols[1]\n",
    "    if pd.isnull(Id):\n",
    "        \n",
    "        if rating == 1:\n",
    "            return 37\n",
    "        elif rating == 2:\n",
    "            return 29\n",
    "        else:\n",
    "            return 24\n",
    "    else:\n",
    "        return Id"
   ]
  },
  {
   "cell_type": "code",
   "execution_count": null,
   "metadata": {},
   "outputs": [],
   "source": [
    "train['Id'] = train[['Id','rating']].apply(impute_age,axis=1)\n"
   ]
  },
  {
   "cell_type": "code",
   "execution_count": null,
   "metadata": {},
   "outputs": [],
   "source": [
    "#sns.heatmap(train.isnull(),yticklabels=False,cbar=False)"
   ]
  },
  {
   "cell_type": "code",
   "execution_count": null,
   "metadata": {},
   "outputs": [],
   "source": [
    "train.drop('ratingSentiment',axis=1,inplace=True)"
   ]
  },
  {
   "cell_type": "code",
   "execution_count": null,
   "metadata": {},
   "outputs": [],
   "source": [
    "train.info()\n"
   ]
  },
  {
   "cell_type": "code",
   "execution_count": null,
   "metadata": {},
   "outputs": [],
   "source": [
    "train"
   ]
  },
  {
   "cell_type": "code",
   "execution_count": null,
   "metadata": {},
   "outputs": [],
   "source": [
    "#review = pd.get_dummies(train['review'],drop_first=True)\n",
    "#cleanReview = pd.get_dummies(train['cleanReview'],drop_first=True)"
   ]
  },
  {
   "cell_type": "code",
   "execution_count": null,
   "metadata": {},
   "outputs": [],
   "source": [
    "train.drop(['Id','review','cleanReview'],axis=1,inplace=True)"
   ]
  },
  {
   "cell_type": "code",
   "execution_count": null,
   "metadata": {},
   "outputs": [],
   "source": [
    "#train = pd.concat([train,sex,embark],axis=1)"
   ]
  },
  {
   "cell_type": "code",
   "execution_count": null,
   "metadata": {},
   "outputs": [],
   "source": [
    "from sklearn.model_selection import train_test_split\n",
    "X_train, X_test, y_train, y_test = train_test_split(train.drop('vaderSentiment',axis=1), train['vaderSentiment'], test_size=0.30, random_state=101)"
   ]
  },
  {
   "cell_type": "code",
   "execution_count": null,
   "metadata": {},
   "outputs": [],
   "source": [
    "from sklearn.linear_model import LogisticRegression\n",
    "logmodel = LogisticRegression()\n",
    "logmodel.fit(X_train,y_train)\n",
    "predictions = logmodel.predict(X_test)"
   ]
  },
  {
   "cell_type": "code",
   "execution_count": null,
   "metadata": {},
   "outputs": [],
   "source": [
    "from sklearn.metrics import classification_report\n",
    "print(classification_report(y_test,predictions))"
   ]
  }
 ],
 "metadata": {
  "kernelspec": {
   "display_name": "Python 3",
   "language": "python",
   "name": "python3"
  },
  "language_info": {
   "codemirror_mode": {
    "name": "ipython",
    "version": 3
   },
   "file_extension": ".py",
   "mimetype": "text/x-python",
   "name": "python",
   "nbconvert_exporter": "python",
   "pygments_lexer": "ipython3",
   "version": "3.8.3"
  }
 },
 "nbformat": 4,
 "nbformat_minor": 4
}
